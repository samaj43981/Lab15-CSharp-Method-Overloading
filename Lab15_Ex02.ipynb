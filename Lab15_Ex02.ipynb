{
 "cells": [
  {
   "cell_type": "markdown",
   "metadata": {},
   "source": [
    "# Lab 15 Exercise 2"
   ]
  },
  {
   "cell_type": "markdown",
   "metadata": {},
   "source": [
    "## Method overloading (Compile time polymorphism)"
   ]
  },
  {
   "cell_type": "markdown",
   "metadata": {},
   "source": [
    "1.สร้าง console application project\n",
    "\n",
    "```cmd\n",
    "dotnet new console --name Lab15_Ex02\n",
    "```"
   ]
  },
  {
   "cell_type": "markdown",
   "metadata": {},
   "source": [
    "2.เปลี่ยน code ให้เป็นดังต่อไปนี้\n",
    "\n",
    "```csharp\n",
    "using static System.Console;\n",
    "WriteLine(Calculator.AddValues(2, 3));\n",
    "WriteLine(Calculator.AddValues(2.0f, 3.0f));\n",
    "WriteLine(Calculator.AddValues(2L, 3L));\n",
    "\n",
    "public static class Calculator\n",
    "{\n",
    "    public static int AddValues(int a, int b)\n",
    "    {\n",
    "        WriteLine(\"Calculated by method: public static long AddValues(int a, int b)\");\n",
    "        return a + b;\n",
    "    }\n",
    "    public static long AddValues(int c, int d)\n",
    "    {\n",
    "        WriteLine(\"Calculated by method: public static long AddValues(int c, int d)\");\n",
    "        return c + d;\n",
    "    }\n",
    "    public static float AddValues(int f, int g)\n",
    "    {\n",
    "        WriteLine(\"Calculated by method: public static long AddValues(int f, int g)\");\n",
    "        return (long) (f + g);\n",
    "    }\n",
    "   public static long AddValues(long h, long i)\n",
    "    {\n",
    "        WriteLine(\"Calculated by method: public static long AddValues(long h, long i)\");\n",
    "        return (long) (h + i);\n",
    "    }\n",
    "}\n",
    "```"
   ]
  },
  {
   "cell_type": "markdown",
   "metadata": {},
   "source": [
    "3.Build project โดยการใช้คำสั่ง\n",
    "\n",
    "```cmd\n",
    "dotnet build  Lab15_Ex02\n",
    "```\n",
    "\n",
    "ถ้ามีที่ผิดพลาดในโปรแกรม ให้แก้ไขให้ถูกต้อง"
   ]
  },
  {
   "cell_type": "code",
   "execution_count": 1,
   "metadata": {
    "polyglot_notebook": {
     "kernelName": "csharp"
    }
   },
   "outputs": [
    {
     "name": "stdout",
     "output_type": "stream",
     "text": [
      "Calculated by method: public static int AddValues(int a, int b)\n",
      "5\n",
      "Calculated by method: public static float AddValues(float c, float d)\n",
      "5\n",
      "Calculated by method: public static long AddValues(long h, long i)\n",
      "5\n"
     ]
    }
   ],
   "source": [
    "using static System.Console;\n",
    "\n",
    "WriteLine(Calculator.AddValues(2, 3));\n",
    "WriteLine(Calculator.AddValues(2.0f, 3.0f));\n",
    "WriteLine(Calculator.AddValues(2L, 3L));\n",
    "\n",
    "public static class Calculator\n",
    "{\n",
    "    public static int AddValues(int a, int b)\n",
    "    {\n",
    "        WriteLine(\"Calculated by method: public static int AddValues(int a, int b)\");\n",
    "        return a + b;\n",
    "    }\n",
    "\n",
    "    // เปลี่ยนประเภทพารามิเตอร์เป็น float\n",
    "    public static float AddValues(float c, float d)\n",
    "    {\n",
    "        WriteLine(\"Calculated by method: public static float AddValues(float c, float d)\");\n",
    "        return c + d;\n",
    "    }\n",
    "\n",
    "    public static long AddValues(long h, long i)\n",
    "    {\n",
    "        WriteLine(\"Calculated by method: public static long AddValues(long h, long i)\");\n",
    "        return h + i;\n",
    "    }\n",
    "}"
   ]
  },
  {
   "cell_type": "markdown",
   "metadata": {},
   "source": [
    "4.บันทึกผลที่ได้จากการรันคำสั่งในข้อ 3"
   ]
  },
  {
   "cell_type": "markdown",
   "metadata": {},
   "source": [
    "  Lab15_Ex02 succeeded (0.4s) → Lab15_Ex02\\bin\\Debug\\net9.0\\Lab15_Ex02.dll\n",
    "\n",
    "Build succeeded in 1.2s\n"
   ]
  },
  {
   "cell_type": "markdown",
   "metadata": {},
   "source": [
    "5.Run project โดยการใช้คำสั่ง\n",
    "```cmd\n",
    "dotnet run --project Lab15_Ex02\n",
    "```\n",
    "\n"
   ]
  },
  {
   "cell_type": "markdown",
   "metadata": {},
   "source": [
    "6.บันทึกผลที่ได้จากการรันคำสั่งในข้อ 5"
   ]
  },
  {
   "cell_type": "markdown",
   "metadata": {},
   "source": [
    "Calculated by method: public static int AddValues(int a, int b)\n",
    "5\n",
    "Calculated by method: public static float AddValues(float c, float d)\n",
    "5\n",
    "Calculated by method: public static long AddValues(long h, long i)\n",
    "5"
   ]
  },
  {
   "cell_type": "markdown",
   "metadata": {},
   "source": [
    "7.อธิบายสิ่งที่พบในการทดลอง"
   ]
  }
 ],
 "metadata": {
  "kernelspec": {
   "display_name": ".NET (C#)",
   "language": "C#",
   "name": ".net-csharp"
  },
  "polyglot_notebook": {
   "kernelInfo": {
    "defaultKernelName": "csharp",
    "items": [
     {
      "aliases": [],
      "languageName": "csharp",
      "name": "csharp"
     }
    ]
   }
  }
 },
 "nbformat": 4,
 "nbformat_minor": 2
}
