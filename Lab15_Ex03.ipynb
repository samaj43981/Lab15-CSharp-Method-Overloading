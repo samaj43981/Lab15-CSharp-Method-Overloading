{
 "cells": [
  {
   "cell_type": "markdown",
   "metadata": {},
   "source": [
    "# Lab 15 Exercise 3"
   ]
  },
  {
   "cell_type": "markdown",
   "metadata": {},
   "source": [
    "## Runtime polymorphism"
   ]
  },
  {
   "cell_type": "markdown",
   "metadata": {},
   "source": [
    "1.สร้าง console application project\n",
    "\n",
    "```cmd\n",
    "dotnet new console --name Lab15_Ex03\n",
    "```"
   ]
  },
  {
   "cell_type": "markdown",
   "metadata": {},
   "source": [
    "2.เปลี่ยน code ให้เป็นดังต่อไปนี้\n",
    "\n",
    "```csharp\n",
    "var animalA = new Dog();\n",
    "var animalB = new Fish();\n",
    "var animalC = new Bird();\n",
    "\n",
    "animalA.Move();\n",
    "animalB.Move();\n",
    "animalC.Move();\n",
    "\n",
    "class Animal\n",
    "{\n",
    "   public virtual void Move()\n",
    "   {\n",
    "    WriteLine(\"Move successfully.\");\n",
    "   } \n",
    "}\n",
    "\n",
    "class Dog:Animal\n",
    "{\n",
    "    public override void Move()\n",
    "    {\n",
    "        WriteLine($\"{this.GetType()}: Running on the ground.\");\n",
    "        base.Move();\n",
    "    }\n",
    "}\n",
    "class Fish: Animal\n",
    "{\n",
    "    public override void Move()\n",
    "    {\n",
    "        WriteLine($\"{this.GetType()}: Swimming in the water.\");\n",
    "        base.Move();\n",
    "    }\n",
    "}\n",
    "\n",
    "class Bird: Animal\n",
    "{\n",
    "    public override void Move()\n",
    "    {\n",
    "        WriteLine($\"{this.GetType()}: Flying in the air.\");\n",
    "        base.Move();\n",
    "    }\n",
    "}\n",
    "```"
   ]
  },
  {
   "cell_type": "markdown",
   "metadata": {},
   "source": [
    "3.Build project โดยการใช้คำสั่ง\n",
    "\n",
    "```cmd\n",
    "dotnet build  Lab15_Ex03\n",
    "```\n",
    "\n",
    "ถ้ามีที่ผิดพลาดในโปรแกรม ให้แก้ไขให้ถูกต้อง"
   ]
  },
  {
   "cell_type": "code",
   "execution_count": 1,
   "metadata": {
    "polyglot_notebook": {
     "kernelName": "csharp"
    }
   },
   "outputs": [
    {
     "name": "stdout",
     "output_type": "stream",
     "text": [
      "Submission#1+Dog: Running on the ground.\n",
      "Move successfully.\n",
      "Submission#1+Fish: Swimming in the water.\n",
      "Move successfully.\n",
      "Submission#1+Bird: Flying in the air.\n",
      "Move successfully.\n"
     ]
    }
   ],
   "source": [
    "using static System.Console; // เพิ่มบรรทัดนี้\n",
    "\n",
    "var animalA = new Dog();\n",
    "var animalB = new Fish();\n",
    "var animalC = new Bird();\n",
    "\n",
    "animalA.Move();\n",
    "animalB.Move();\n",
    "animalC.Move();\n",
    "\n",
    "class Animal\n",
    "{\n",
    "    public virtual void Move()\n",
    "    {\n",
    "        WriteLine(\"Move successfully.\");\n",
    "    }\n",
    "}\n",
    "\n",
    "class Dog : Animal\n",
    "{\n",
    "    public override void Move()\n",
    "    {\n",
    "        WriteLine($\"{this.GetType()}: Running on the ground.\");\n",
    "        base.Move();\n",
    "    }\n",
    "}\n",
    "\n",
    "class Fish : Animal\n",
    "{\n",
    "    public override void Move()\n",
    "    {\n",
    "        WriteLine($\"{this.GetType()}: Swimming in the water.\");\n",
    "        base.Move();\n",
    "    }\n",
    "}\n",
    "\n",
    "class Bird : Animal\n",
    "{\n",
    "    public override void Move()\n",
    "    {\n",
    "        WriteLine($\"{this.GetType()}: Flying in the air.\");\n",
    "        base.Move();\n",
    "    }\n",
    "}"
   ]
  },
  {
   "cell_type": "markdown",
   "metadata": {},
   "source": [
    "4.บันทึกผลที่ได้จากการรันคำสั่งในข้อ 3"
   ]
  },
  {
   "cell_type": "markdown",
   "metadata": {},
   "source": [
    "Restore complete (0.4s)\n",
    "  Lab15_Ex03 succeeded (0.4s) → Lab15_Ex03\\bin\\Debug\\net9.0\\Lab15_Ex03.dll\n",
    "\n",
    "Build succeeded in 1.3s"
   ]
  },
  {
   "cell_type": "markdown",
   "metadata": {},
   "source": [
    "5.Run project โดยการใช้คำสั่ง\n",
    "```cmd\n",
    "dotnet run --project Lab15_Ex03\n",
    "```\n",
    "\n"
   ]
  },
  {
   "cell_type": "markdown",
   "metadata": {},
   "source": [
    "6.บันทึกผลที่ได้จากการรันคำสั่งในข้อ 5"
   ]
  },
  {
   "cell_type": "markdown",
   "metadata": {},
   "source": [
    "Submission#1+Dog: Running on the ground.\n",
    "Move successfully.\n",
    "Submission#1+Fish: Swimming in the water.\n",
    "Move successfully.\n",
    "Submission#1+Bird: Flying in the air.\n",
    "Move successfully."
   ]
  },
  {
   "cell_type": "markdown",
   "metadata": {},
   "source": [
    "7.อธิบายสิ่งที่พบในการทดลอง"
   ]
  }
 ],
 "metadata": {
  "kernelspec": {
   "display_name": ".NET (C#)",
   "language": "C#",
   "name": ".net-csharp"
  },
  "polyglot_notebook": {
   "kernelInfo": {
    "defaultKernelName": "csharp",
    "items": [
     {
      "aliases": [],
      "languageName": "csharp",
      "name": "csharp"
     }
    ]
   }
  }
 },
 "nbformat": 4,
 "nbformat_minor": 2
}
